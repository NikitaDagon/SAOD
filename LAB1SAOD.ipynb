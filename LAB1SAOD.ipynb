{
  "cells": [
    {
      "cell_type": "markdown",
      "metadata": {
        "id": "view-in-github",
        "colab_type": "text"
      },
      "source": [
        "<a href=\"https://colab.research.google.com/github/NikitaDagon/SAOD/blob/main/LAB1SAOD.ipynb\" target=\"_parent\"><img src=\"https://colab.research.google.com/assets/colab-badge.svg\" alt=\"Open In Colab\"/></a>"
      ]
    },
    {
      "cell_type": "markdown",
      "id": "fifteen-sailing",
      "metadata": {
        "id": "fifteen-sailing"
      },
      "source": [
        "# Лабораторная работа №1\n",
        "## Выполнил студент БВТ2103 Киреев Никита"
      ]
    },
    {
      "cell_type": "markdown",
      "id": "particular-syndicate",
      "metadata": {
        "id": "particular-syndicate"
      },
      "source": [
        "### Оглавление\n",
        "1. [Задание 1](#Задание-№1)\n",
        "2. [Задание 2](#Задание-№2)\n",
        "3. [Задание 3](#Задание-№3)\n",
        "4. [Вывод](#Вывод)"
      ]
    },
    {
      "cell_type": "markdown",
      "id": "arctic-stocks",
      "metadata": {
        "id": "arctic-stocks"
      },
      "source": [
        "### Задание №1\n",
        "<i> Вызвать функцию print() и передать туда строку Hello, World! </i>"
      ]
    },
    {
      "cell_type": "code",
      "execution_count": null,
      "id": "caring-truck",
      "metadata": {
        "scrolled": true,
        "id": "caring-truck",
        "outputId": "493e466b-3e0f-4606-cdf7-170501bb17ad",
        "colab": {
          "base_uri": "https://localhost:8080/"
        }
      },
      "outputs": [
        {
          "output_type": "stream",
          "name": "stdout",
          "text": [
            "Hello world\n"
          ]
        }
      ],
      "source": [
        "print(\"Hello, World!\")"
      ]
    },
    {
      "cell_type": "markdown",
      "id": "maritime-conversation",
      "metadata": {
        "id": "maritime-conversation"
      },
      "source": [
        "### Задание №2\n",
        "Написать генератор случайных матриц(многомерных), который принимает\n",
        "опциональные параметры <b>m</b>, <b>n</b>, <b>min_limit</b>, <b>max_limit</b>, где <b>m</b> и <b>n</b> указывают размер\n",
        "матрицы, а <b>min_lim</b> и <b>max_lim</b> - минимальное и максимальное значение для\n",
        "генерируемого числа."
      ]
    },
    {
      "cell_type": "code",
      "execution_count": null,
      "id": "built-contact",
      "metadata": {
        "id": "built-contact"
      },
      "outputs": [],
      "source": [
        "import random\n",
        "import time"
      ]
    },
    {
      "cell_type": "code",
      "execution_count": null,
      "id": "alert-charm",
      "metadata": {
        "id": "alert-charm",
        "colab": {
          "base_uri": "https://localhost:8080/"
        },
        "outputId": "461e2a2d-a60a-4557-dcf2-1214ed22fcb8"
      },
      "outputs": [
        {
          "name": "stdout",
          "output_type": "stream",
          "text": [
            "5\n",
            "5\n",
            "15\n",
            "25\n"
          ]
        }
      ],
      "source": [
        "user_m = input()\n",
        "user_n = input()\n",
        "user_min_limit = input()\n",
        "user_max_limit = input()\n",
        "m = int(user_m)\n",
        "n = int(user_n)\n",
        "x = int(user_min_limit)\n",
        "y = int(user_max_limit)\n",
        "def create_mas(m,n):\n",
        "  arr = []\n",
        "  for i in range(m):\n",
        "      irr=[]\n",
        "      for j in range(n):\n",
        "          irr.append(random.randint(x,y))\n",
        "      arr.append(irr)\n",
        "  return(arr)\n",
        "mas=create_mas(m, n)\n",
        "mas  "
      ]
    },
    {
      "cell_type": "markdown",
      "id": "catholic-roots",
      "metadata": {
        "id": "catholic-roots"
      },
      "source": [
        "### Задание №3\n",
        "Реализовать методы сортировки строк числовой матрицы в соответствии с\n",
        "заданием. Оценить время работы каждого алгоритма сортировки и сравнить его со\n",
        "временем стандартной функции сортировки. Испытания проводить на сгенерированных\n",
        "матрицах."
      ]
    },
    {
      "cell_type": "code",
      "source": [
        "import copy"
      ],
      "metadata": {
        "id": "bLzzxElOeo3z"
      },
      "id": "bLzzxElOeo3z",
      "execution_count": null,
      "outputs": []
    },
    {
      "cell_type": "code",
      "execution_count": null,
      "id": "cleared-anniversary",
      "metadata": {
        "id": "cleared-anniversary",
        "outputId": "5b07eb9a-1249-4a13-8a02-6cd425789f8b",
        "colab": {
          "base_uri": "https://localhost:8080/"
        }
      },
      "outputs": [
        {
          "output_type": "stream",
          "name": "stdout",
          "text": [
            "5\n",
            "5\n",
            "25\n",
            "40\n",
            "--- 8253 ms ---\n"
          ]
        },
        {
          "output_type": "execute_result",
          "data": {
            "text/plain": [
              "[[25, 26, 28, 30, 39],\n",
              " [26, 29, 29, 34, 36],\n",
              " [26, 33, 35, 36, 40],\n",
              " [29, 33, 36, 36, 40],\n",
              " [31, 33, 34, 35, 36]]"
            ]
          },
          "metadata": {},
          "execution_count": 62
        }
      ],
      "source": [
        "# Сортировка выбором.\n",
        "# Берётся срез массива, в котором минимальный элемент переносят в самый левый угол,\n",
        "# после чего срез уменьшается и цикл повторяется.\n",
        "start_time = time.time()\n",
        "user_m = int(input())\n",
        "user_n = int(input())\n",
        "user_min_limit = int(input())\n",
        "user_max_limit = int(input())\n",
        "def create_mas(user_m,user_n):\n",
        "  arr = []\n",
        "  for i in range(user_m):\n",
        "      irr=[]\n",
        "      for j in range(user_n):\n",
        "          irr.append(random.randint(user_min_limit,user_max_limit))\n",
        "      arr.append(irr)\n",
        "  return arr\n",
        "mas = create_mas(user_m,user_n)\n",
        "create_mas(user_m, user_n)\n",
        "\n",
        "\n",
        "mas=create_mas(user_m,user_n)\n",
        "def selection_sort(mas):\n",
        "  for i in range(len(mas)):\n",
        "      min = i\n",
        "      for j in range(i + 1,len(mas)):\n",
        "          if mas[j] < mas[min]:\n",
        "              min = j\n",
        "\n",
        "      mas[min], mas[i] = mas[i], mas[min]\n",
        "\n",
        "  return mas\n",
        "for row in range(len(mas)):\n",
        "    selection_sort(mas[row])\n",
        "print(\"--- {0} ms ---\".format(round((time.time() - start_time) * 1000)))\n",
        "selection_sort(mas)"
      ]
    },
    {
      "cell_type": "code",
      "execution_count": null,
      "id": "roman-silly",
      "metadata": {
        "scrolled": true,
        "id": "roman-silly",
        "outputId": "2584822b-46c0-4707-e140-2f57b2f24f16",
        "colab": {
          "base_uri": "https://localhost:8080/"
        }
      },
      "outputs": [
        {
          "output_type": "stream",
          "name": "stdout",
          "text": [
            "5\n",
            "5\n",
            "15\n",
            "25\n",
            "--- 9224 ms ---\n"
          ]
        },
        {
          "output_type": "execute_result",
          "data": {
            "text/plain": [
              "[[15, 16, 19, 20, 24],\n",
              " [15, 18, 23, 24, 25],\n",
              " [17, 19, 20, 20, 24],\n",
              " [18, 18, 18, 22, 25],\n",
              " [20, 23, 23, 24, 25]]"
            ]
          },
          "metadata": {},
          "execution_count": 63
        }
      ],
      "source": [
        "# Сортировка вставкой.\n",
        "start_time = time.time()\n",
        "user_m = int(input())\n",
        "user_n = int(input())\n",
        "user_min_limit = int(input())\n",
        "user_max_limit = int(input())\n",
        "def create_mas(user_m,user_n):\n",
        "  arr = []\n",
        "  for i in range(user_m):\n",
        "      irr=[]\n",
        "      for j in range(user_n):\n",
        "          irr.append(random.randint(user_min_limit,user_max_limit))\n",
        "      arr.append(irr)\n",
        "  return arr\n",
        "mas = create_mas(user_m,user_n)\n",
        "create_mas(user_m, user_n)\n",
        "\n",
        "mas=create_mas(user_m,user_n)\n",
        "def insertion_sort(mas):\n",
        "    for i in range(len(mas)):\n",
        "      curs =mas[i]\n",
        "      pos = i\n",
        "\n",
        "      while pos > 0 and mas[pos -1] >curs:\n",
        "          mas[pos] = mas[pos -1]\n",
        "          pos = pos -1\n",
        "      mas[pos] = curs\n",
        "\n",
        "    return mas\n",
        "for row in range(len(mas)):\n",
        "      selection_sort(mas[row])    \n",
        "print(\"--- {0} ms ---\".format(round((time.time() - start_time)*1000)))\n",
        "\n",
        "insertion_sort(mas)"
      ]
    },
    {
      "cell_type": "code",
      "execution_count": null,
      "id": "vital-implementation",
      "metadata": {
        "id": "vital-implementation",
        "outputId": "55f5bdd6-645e-4db3-af7f-3272de26ca8c",
        "colab": {
          "base_uri": "https://localhost:8080/"
        }
      },
      "outputs": [
        {
          "output_type": "stream",
          "name": "stdout",
          "text": [
            "5\n",
            "5\n",
            "15\n",
            "25\n",
            "--- 8370 ms ---\n"
          ]
        },
        {
          "output_type": "execute_result",
          "data": {
            "text/plain": [
              "[[15, 18, 19, 20, 22],\n",
              " [16, 16, 16, 16, 17],\n",
              " [16, 16, 20, 22, 24],\n",
              " [16, 17, 18, 18, 25],\n",
              " [16, 19, 22, 24, 24],\n",
              " [18, 18, 21, 22, 23],\n",
              " [18, 21, 24, 24, 25],\n",
              " [20, 21, 21, 24, 25]]"
            ]
          },
          "metadata": {},
          "execution_count": 64
        }
      ],
      "source": [
        "# Сортировка обменом. || Сортировка пузырьком.\n",
        "start_time = time.time()\n",
        "user_m = int(input())\n",
        "user_n = int(input())\n",
        "user_min_limit = int(input())\n",
        "user_max_limit = int(input())\n",
        "def create_mas(user_m,user_n):\n",
        "  arr = []\n",
        "  for i in range(user_m):\n",
        "      irr=[]\n",
        "      for j in range(user_n):\n",
        "          irr.append(random.randint(user_min_limit,user_max_limit))\n",
        "      arr.append(irr)\n",
        "  return arr\n",
        "mas = create_mas(user_m,user_n)\n",
        "create_mas(user_m, user_n)\n",
        "\n",
        "mas=create_mas(m, n)\n",
        "def bubble(mas):\n",
        "    changed = True\n",
        "    while changed:\n",
        "        changed = False\n",
        "        for i in range(len(mas) - 1):\n",
        "            if mas[i] > mas[i+1]:\n",
        "                mas[i], mas[i+1] = mas[i+1], mas[i]\n",
        "                changed = True\n",
        "    return mas\n",
        "for row in range(len(mas)):\n",
        "     bubble(mas[row]) \n",
        "print(\"--- {0} ms ---\".format(round((time.time() - start_time)*1000)))\n",
        "bubble(mas) "
      ]
    },
    {
      "cell_type": "code",
      "execution_count": null,
      "id": "veterinary-glory",
      "metadata": {
        "id": "veterinary-glory",
        "outputId": "8441247e-1172-48a3-e1ff-17e42477246c",
        "colab": {
          "base_uri": "https://localhost:8080/"
        }
      },
      "outputs": [
        {
          "output_type": "stream",
          "name": "stdout",
          "text": [
            "5\n",
            "5\n",
            "25\n",
            "45\n",
            "--- 9023 ms ---\n"
          ]
        },
        {
          "output_type": "execute_result",
          "data": {
            "text/plain": [
              "[[25, 27, 28, 38, 38],\n",
              " [25, 31, 37, 38, 40],\n",
              " [27, 29, 31, 33, 37],\n",
              " [28, 32, 43, 43, 45],\n",
              " [28, 34, 39, 39, 43],\n",
              " [28, 35, 37, 42, 42],\n",
              " [29, 30, 31, 34, 39],\n",
              " [29, 34, 35, 36, 41]]"
            ]
          },
          "metadata": {},
          "execution_count": 65
        }
      ],
      "source": [
        "# Сортировка Шелла.\n",
        "start_time = time.time()\n",
        "user_m = int(input())\n",
        "user_n = int(input())\n",
        "user_min_limit = int(input())\n",
        "user_max_limit = int(input())\n",
        "def create_mas(user_m,user_n):\n",
        "  arr = []\n",
        "  for i in range(user_m):\n",
        "      irr=[]\n",
        "      for j in range(user_n):\n",
        "          irr.append(random.randint(user_min_limit,user_max_limit))\n",
        "      arr.append(irr)\n",
        "  return arr\n",
        "mas = create_mas(user_m,user_n)\n",
        "create_mas(user_m, user_n)\n",
        "\n",
        "\n",
        "mas=create_mas(m, n)\n",
        "def shell_sort(mas):\n",
        "    gap = len(mas) // 2\n",
        "\n",
        "    while gap > 0:\n",
        "        for value in range(gap, len(mas)):\n",
        "            current_value = mas[value]\n",
        "            position = value\n",
        "\n",
        "            while position >= gap and mas[position - gap] > current_value:\n",
        "                mas[position] = mas[position - gap]\n",
        "                position -= gap\n",
        "                mas[position] = current_value\n",
        "\n",
        "        gap //= 2\n",
        "    return mas\n",
        "for row in range(len(mas)):\n",
        "     shell_sort(mas[row])\n",
        "print(\"--- {0} ms ---\".format(round((time.time() - start_time)*1000)))\n",
        "shell_sort(mas)"
      ]
    },
    {
      "cell_type": "code",
      "execution_count": null,
      "id": "correct-chaos",
      "metadata": {
        "id": "correct-chaos",
        "outputId": "a4f252ec-00fc-4f0e-defe-d59285ed0b19",
        "colab": {
          "base_uri": "https://localhost:8080/"
        }
      },
      "outputs": [
        {
          "output_type": "stream",
          "name": "stdout",
          "text": [
            "5\n",
            "5\n",
            "15\n",
            "25\n",
            "--- 8284 ms ---\n"
          ]
        },
        {
          "output_type": "execute_result",
          "data": {
            "text/plain": [
              "[[15, 15, 17, 22, 25],\n",
              " [15, 17, 20, 21, 24],\n",
              " [15, 18, 18, 19, 20],\n",
              " [16, 16, 22, 24, 25],\n",
              " [17, 17, 18, 18, 25],\n",
              " [17, 18, 18, 23, 23],\n",
              " [18, 20, 23, 24, 25],\n",
              " [19, 19, 22, 25, 25]]"
            ]
          },
          "metadata": {},
          "execution_count": 66
        }
      ],
      "source": [
        "# Быстрая сортировка.\n",
        "start_time = time.time()\n",
        "user_m = int(input())\n",
        "user_n = int(input())\n",
        "user_min_limit = int(input())\n",
        "user_max_limit = int(input())\n",
        "def create_mas(user_m,user_n):\n",
        "  arr = []\n",
        "  for i in range(user_m):\n",
        "      irr=[]\n",
        "      for j in range(user_n):\n",
        "          irr.append(random.randint(user_min_limit,user_max_limit))\n",
        "      arr.append(irr)\n",
        "  return arr\n",
        "mas = create_mas(user_m,user_n)\n",
        "create_mas(user_m, user_n)\n",
        "\n",
        "mas=create_mas(m, n)\n",
        "def quick_sort(mas):\n",
        "    quick_sort_helper(mas, 0, len(mas) - 1)\n",
        "    return mas\n",
        "\n",
        "\n",
        "def quick_sort_helper(mas, low, high):\n",
        "    if low < high:\n",
        "        split_point = partition(mas, low, high)\n",
        "        quick_sort_helper(mas, low, split_point - 1)\n",
        "        quick_sort_helper(mas, split_point + 1, high)\n",
        "\n",
        "\n",
        "def partition(mas, low, high):\n",
        "    value = mas[low]\n",
        "    l_mark = low + 1\n",
        "    r_mark = high\n",
        "    done = False\n",
        "\n",
        "    while not done:\n",
        "        while l_mark <= r_mark and mas[l_mark] <= value:\n",
        "            l_mark += 1\n",
        "        while r_mark >= l_mark and mas[r_mark] >= value:\n",
        "            r_mark -= 1\n",
        "\n",
        "        if r_mark < l_mark:\n",
        "            done = True\n",
        "        else:\n",
        "            mas[l_mark], mas[r_mark] = mas[r_mark], mas[l_mark]\n",
        "\n",
        "    mas[low], mas[r_mark] = mas[r_mark], mas[low]\n",
        "    return r_mark\n",
        "for row in range(len(mas)):\n",
        "     quick_sort(mas[row])   \n",
        "\n",
        "\n",
        "print(\"--- {0} ms ---\".format(round((time.time() - start_time)*1000)))\n",
        "quick_sort(mas)   "
      ]
    },
    {
      "cell_type": "code",
      "execution_count": null,
      "id": "french-czech",
      "metadata": {
        "colab": {
          "base_uri": "https://localhost:8080/"
        },
        "id": "french-czech",
        "outputId": "3a429872-5ab2-4bb2-bf8c-0465ac56726b"
      },
      "outputs": [
        {
          "output_type": "stream",
          "name": "stdout",
          "text": [
            "5\n",
            "5\n",
            "25\n",
            "45\n",
            "--- 8331 ms ---\n"
          ]
        },
        {
          "output_type": "execute_result",
          "data": {
            "text/plain": [
              "[[25, 26, 37, 43, 45],\n",
              " [25, 30, 33, 36, 41],\n",
              " [25, 34, 35, 38, 38],\n",
              " [26, 28, 33, 34, 38],\n",
              " [27, 31, 31, 32, 40],\n",
              " [27, 36, 37, 37, 42],\n",
              " [31, 33, 43, 44, 44],\n",
              " [32, 32, 39, 43, 45]]"
            ]
          },
          "metadata": {},
          "execution_count": 67
        }
      ],
      "source": [
        "# Турнирная сортировка.\n",
        "start_time = time.time()\n",
        "user_m = int(input())\n",
        "user_n = int(input())\n",
        "user_min_limit = int(input())\n",
        "user_max_limit = int(input())\n",
        "def create_mas(user_m,user_n):\n",
        "  arr = []\n",
        "  for i in range(user_m):\n",
        "      irr=[]\n",
        "      for j in range(user_n):\n",
        "          irr.append(random.randint(user_min_limit,user_max_limit))\n",
        "      arr.append(irr)\n",
        "  return arr\n",
        "mas = create_mas(user_m,user_n)\n",
        "create_mas(user_m, user_n)\n",
        "\n",
        "mas=create_mas(m, n)\n",
        "def heap(mas, heap_size, root_index):\n",
        "    largest = root_index\n",
        "    left_child = (2 * root_index) + 1\n",
        "    right_child = (2 * root_index) + 2\n",
        "    if left_child < heap_size and mas[left_child] > mas[largest]:\n",
        "        largest = left_child\n",
        "    if right_child < heap_size and mas[right_child] > mas[largest]:\n",
        "        largest = right_child\n",
        "    if largest != root_index:\n",
        "        mas[root_index], mas[largest] = mas[largest], mas[root_index]\n",
        "        heap(mas, heap_size, largest)\n",
        "def tur_sort(mas):\n",
        "    n = len(mas)\n",
        "    for i in range(n, -1, -1):\n",
        "        heap(mas, n, i)\n",
        "    for i in range(n - 1, 0, -1):\n",
        "        mas[i], mas[0] = mas[0], mas[i]\n",
        "        heap(mas, i, 0)\n",
        "    return mas\n",
        "for row in range(len(mas)):\n",
        "     tur_sort(mas[row])\n",
        "print(\"--- {0} ms ---\".format(round((time.time() - start_time)*1000)))\n",
        "tur_sort(mas) "
      ]
    },
    {
      "cell_type": "markdown",
      "id": "rental-jerusalem",
      "metadata": {
        "id": "rental-jerusalem"
      },
      "source": [
        "### Вывод\n"
      ]
    },
    {
      "cell_type": "markdown",
      "source": [
        "Мы изучили разные методы сортировки массивов\n"
      ],
      "metadata": {
        "id": "UxmqcaJ2RVsk"
      },
      "id": "UxmqcaJ2RVsk"
    }
  ],
  "metadata": {
    "kernelspec": {
      "display_name": "Python 3 (ipykernel)",
      "language": "python",
      "name": "python3"
    },
    "language_info": {
      "codemirror_mode": {
        "name": "ipython",
        "version": 3
      },
      "file_extension": ".py",
      "mimetype": "text/x-python",
      "name": "python",
      "nbconvert_exporter": "python",
      "pygments_lexer": "ipython3",
      "version": "3.10.2"
    },
    "colab": {
      "provenance": [],
      "include_colab_link": true
    }
  },
  "nbformat": 4,
  "nbformat_minor": 5
}