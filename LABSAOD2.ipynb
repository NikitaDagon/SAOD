{
  "cells": [
    {
      "cell_type": "markdown",
      "metadata": {
        "id": "view-in-github",
        "colab_type": "text"
      },
      "source": [
        "<a href=\"https://colab.research.google.com/github/NikitaDagon/SAOD/blob/main/LABSAOD2.ipynb\" target=\"_parent\"><img src=\"https://colab.research.google.com/assets/colab-badge.svg\" alt=\"Open In Colab\"/></a>"
      ]
    },
    {
      "cell_type": "markdown",
      "id": "fifteen-sailing",
      "metadata": {
        "id": "fifteen-sailing"
      },
      "source": [
        "# Лабораторная работа №4\n",
        "## Выполнил студент группы БВТ2103 Киреев Никита\n"
      ]
    },
    {
      "cell_type": "markdown",
      "id": "arctic-stocks",
      "metadata": {
        "id": "arctic-stocks"
      },
      "source": [
        "Реализовать следующие структуры данных:\n",
        "  \n",
        "● <b> Стек (stack): </b>  \n",
        "Операции для стека: \n",
        "<i> инициализация, проверка на пустоту, добавление нового элемента в начало, извлечение элемента из начала;  </i>  \n",
        "  \n",
        "● <b> Дек (двусторонняя очередь, deque):  </b>  \n",
        "Операции для дека: \n",
        "<i> инициализация, проверка на пустоту, добавление нового элемента в начало, добавление нового элемента в конец, извлечение элемента из начала, извлечение элемента из конца. </i>  \n",
        "  \n",
        "<i> Разработать программу обработки данных, содержащихся в заранее подготовленном txt-файле, в соответствии с заданиями, применив указанную в задании структуру данных. Результат работы программы вывести на экран и сохранить в отдельном txt-файле. </i>"
      ]
    },
    {
      "cell_type": "code",
      "source": [
        "class LinkedNode:\n",
        "    def __init__(self, value=None):\n",
        "        self.value = value\n",
        "        self.right = None\n",
        "        self.left = None\n",
        "#Стек\n",
        "class Stack:\n",
        "    def __init__(self):    #инициализация\n",
        "        self.head = LinkedNode()\n",
        "        self.size = 0\n",
        "\n",
        "    def is_empty(self):    #is_empty - определить, пусто ли оно\n",
        "        return self.size == 0\n",
        "\n",
        "    def push(self, value):   #push - добавляет элемент в верхнюю часть стека\n",
        "        if self.size > 0:\n",
        "            node = LinkedNode(value)\n",
        "            node.right = self.head\n",
        "            self.head = node\n",
        "        else:\n",
        "            self.head.value = value\n",
        "        self.size += 1\n",
        "      \n",
        "    def pop(self):           #pop - удаляет элемент в верхней части стека\n",
        "        if self.is_empty():\n",
        "            return println(\"Стек пуст\")\n",
        "        remove = self.head\n",
        "        if self.size > 1:\n",
        "            self.head = remove.right\n",
        "        self.size -= 1\n",
        "        return remove.value\n",
        "    \n",
        "    def peek(self):        #peek - возвращается к верхнему элементу стека\n",
        "        if self.is_empty():\n",
        "            return println(\"Стек пуст\")\n",
        "        return self.head.value\n",
        "    \n",
        "    def __len__(self):     #возвращает количество элементов в стеке\n",
        "        return self.size\n",
        "\n",
        "    def reverse(self):    #реверс\n",
        "        current = self.head\n",
        "        prev = None\n",
        "        next = None\n",
        " \n",
        "        while current is not None:\n",
        "            next = current.right\n",
        "            current.right = prev\n",
        "            prev = current\n",
        "            current = next\n",
        "\n",
        "        self.head = prev\n",
        "#Дек     \n",
        "class Deque:\n",
        "    def __init__(self):         #инициализация\n",
        "        self.head = LinkedNode()\n",
        "        self.tail = self.head\n",
        "        self.size = 0\n",
        "    \n",
        "    def is_empty(self):         #is_empty - определить, пусто ли оно\n",
        "        return self.size == 0\n",
        "\n",
        "    def push_left(self, value): #добавляет к началу двухсторонней очереди  \n",
        "        if self.size > 0:\n",
        "            node = LinkedNode(value)\n",
        "            node.right = self.tail\n",
        "            self.tail.left = node\n",
        "            self.tail = node\n",
        "        else:\n",
        "            self.tail.value = value\n",
        "        self.size += 1\n",
        "\n",
        "    def push(self, value):     #добавляет к концу двухсторонней очереди \n",
        "        if self.size > 0:\n",
        "            node = LinkedNode(value)\n",
        "            node.left = self.head\n",
        "            self.head.right = node\n",
        "            self.head = node\n",
        "        else:\n",
        "            self.head.value = value\n",
        "        self.size += 1\n",
        "    \n",
        "    def pop_left(self):  #удаляет и возвращает элемент с левой стороны двусторонней очереди\n",
        "        if self.is_empty():\n",
        "            return println(\"Стек пуст\")\n",
        "        remove = self.tail\n",
        "        if self.size > 1:\n",
        "            self.tail = remove.right\n",
        "        self.size -= 1\n",
        "        return remove.value\n",
        "    \n",
        "    def pop(self):       #удаляет и возвращает элемент с правой стороны двусторонней очереди\n",
        "        if self.is_empty():\n",
        "            return println(\"Стек пуст\")\n",
        "        remove = self.head\n",
        "        if self.size > 1:\n",
        "            self.head = remove.left\n",
        "        self.size -= 1\n",
        "        return remove.value\n",
        "    \n",
        "    def peek(self):      #возвращает элемент конца, не удаляя его\n",
        "        if self.is_empty():\n",
        "            return println(\"Стек пуст\")\n",
        "        return self.head.value\n",
        "    \n",
        "    def peek_left(self):  #возвращает элемент начала, не удаляя его\n",
        "        if self.is_empty():\n",
        "            return println(\"Стек пуст\")\n",
        "        return self.tail.value\n",
        "\n",
        "    def __len__(self):    #возвращает количество элементов в двухсторонней очереди\n",
        "        return self.size\n",
        "        "
      ],
      "metadata": {
        "id": "jdQjeutoLQYe"
      },
      "id": "jdQjeutoLQYe",
      "execution_count": null,
      "outputs": []
    },
    {
      "cell_type": "markdown",
      "id": "5d7edb08",
      "metadata": {
        "scrolled": true,
        "id": "5d7edb08"
      },
      "source": [
        "### Задание №1\n",
        "Отсортировать строки файла, содержащие названия книг, в алфавитном порядке с использованием двух деков."
      ]
    },
    {
      "cell_type": "code",
      "execution_count": null,
      "id": "17702ade",
      "metadata": {
        "id": "17702ade",
        "colab": {
          "base_uri": "https://localhost:8080/"
        },
        "outputId": "db106fa5-55cb-43b3-8cff-18ccc64a18f3"
      },
      "outputs": [
        {
          "output_type": "stream",
          "name": "stdout",
          "text": [
            "Граф Монте-Кристо\n",
            "\n",
            "Двенадцать стульев\n",
            "\n",
            "Мастер и Маргарита\n",
            "\n",
            "Мёртвые души\n",
            "\n",
            "Собачье сердце\n",
            "\n"
          ]
        }
      ],
      "source": [
        "with open('Task1.txt') as books:\n",
        "    books = open('Task1.txt')\n",
        "    q = Deque()\n",
        "    d = Deque()\n",
        "    for Task1 in books:\n",
        "        q.push(Task1)\n",
        "    while not q.is_empty():\n",
        "        x = q.pop()\n",
        "        while not d.is_empty() and d.peek() < x:\n",
        "            q.push_left(d.pop())\n",
        "        d.push(x)\n",
        "    while not d.is_empty():\n",
        "        print(d.pop())\n",
        "books.close()\n"
      ]
    },
    {
      "cell_type": "markdown",
      "id": "49fbd2a0",
      "metadata": {
        "id": "49fbd2a0"
      },
      "source": [
        "### Задание №2\n",
        "Дек содержит последовательность символов для шифровки сообщений. Дан текстовый файл, содержащий зашифрованное сообщение. Пользуясь деком, расшифровать текст. \n",
        "Известно, что при шифровке каждый символ сообщения заменялся следующим за ним в деке по часовой стрелке через один."
      ]
    },
    {
      "cell_type": "code",
      "execution_count": null,
      "id": "81cab7a8",
      "metadata": {
        "id": "81cab7a8",
        "colab": {
          "base_uri": "https://localhost:8080/"
        },
        "outputId": "14cad476-4123-4359-d8ae-cf9b720cfa1f"
      },
      "outputs": [
        {
          "output_type": "stream",
          "name": "stdout",
          "text": [
            "Србтйуё а обцпзфтэ г ибмпзойлбц й оё нпдф еёмбуэ юуй мбвь\n",
            "Спасите я нахожусь в заложниках и не могу делать эти лабы\n"
          ]
        }
      ],
      "source": [
        "alphabet = list('абвгдеёжзийклмнопрстуфхцчшщъыьэюя')\n",
        "key = Deque()\n",
        "for letter in alphabet:\n",
        "    key.push(letter)\n",
        "\n",
        "def Encode(c):\n",
        "    for i in range(len(key)):\n",
        "        x = key.pop_left()\n",
        "        if x == c:\n",
        "            key.push(x)\n",
        "            val = key.pop_left()\n",
        "            key.push(val)\n",
        "            return val\n",
        "        key.push(x)\n",
        "def Decode(c):\n",
        "    for i in range(len(key)):\n",
        "        x = key.pop()\n",
        "        if x == c:\n",
        "            key.push_left(x)\n",
        "            val = key.pop()\n",
        "            key.push_left(val)\n",
        "            return val\n",
        "        key.push_left(x)\n",
        "\n",
        "text = \"Спасите я нахожусь в заложниках и не могу делать эти лабы\"\n",
        "\n",
        "encoded = ''\n",
        "for letter in text:\n",
        "    if encoded_letter := Encode(letter):\n",
        "        encoded += encoded_letter\n",
        "    else:\n",
        "        encoded += letter\n",
        "\n",
        "print(encoded)\n",
        "\n",
        "decoded = ''\n",
        "for letter in encoded:\n",
        "    if decoded_letter := Decode(letter):\n",
        "        decoded += decoded_letter\n",
        "    else:\n",
        "        decoded += letter\n",
        "print(decoded)\n"
      ]
    },
    {
      "cell_type": "markdown",
      "id": "c0894f47",
      "metadata": {
        "id": "c0894f47"
      },
      "source": [
        "### Задание №3\n",
        "Даны три стержня и n дисков различного размера. Диски можно надевать на стержни, образуя из них башни. Перенести n дисков со стержня А на стержень С, сохранив их первоначальный порядок. При переносе дисков необходимо соблюдать следующие правила:\n",
        "- на каждом шаге со стержня на стержень переносить только один диск;\n",
        "- диск нельзя помещать на диск меньшего размера;\n",
        "- для промежуточного хранения можно использовать стержень В.\n",
        "Реализовать алгоритм, используя три стека вместо стержней А, В, С. Информация о дисках хранится в исходном файле."
      ]
    },
    {
      "cell_type": "code",
      "execution_count": null,
      "id": "9e91a9d4",
      "metadata": {
        "id": "9e91a9d4",
        "colab": {
          "base_uri": "https://localhost:8080/"
        },
        "outputId": "6cf2f72a-ab86-4082-a277-bc07a61bd4aa"
      },
      "outputs": [
        {
          "output_type": "stream",
          "name": "stdout",
          "text": [
            "1\n",
            "2\n",
            "3\n",
            "4\n",
            "5\n",
            "6\n",
            "7\n",
            "8\n"
          ]
        }
      ],
      "source": [
        "A = Stack()\n",
        "B = Stack()\n",
        "C = Stack()\n",
        "\n",
        "disks = 8\n",
        "\n",
        "for i in range(disks, 0, -1):\n",
        "    A.push(i)\n",
        "\n",
        "def move(a, b):\n",
        "    if len(a) == 0 and len(b) > 0:\n",
        "        a.push(b.pop())\n",
        "    elif len(a) > 0 and len(b) == 0:\n",
        "        b.push(a.pop())\n",
        "    elif a.peek() > b.peek():\n",
        "        a.push(b.pop())\n",
        "    else:\n",
        "        b.push(a.pop())\n",
        "\n",
        "if disks % 2 == 0:\n",
        "    while len(C) != disks:\n",
        "        move(A, B)\n",
        "        move(A, C)\n",
        "        move(B, C)\n",
        "else:\n",
        "    while len(C) != disks:\n",
        "        move(A, C)\n",
        "        move(A, B)\n",
        "        move(B, C)\n",
        "\n",
        "while not C.is_empty():\n",
        "    print(C.pop())"
      ]
    },
    {
      "cell_type": "markdown",
      "id": "e5b0be17",
      "metadata": {
        "id": "e5b0be17"
      },
      "source": [
        "### Задание №4\n",
        "Дан текстовый файл с программой на алгоритмическом языке. За один просмотр файла проверить баланс круглых скобок в тексте, используя стек."
      ]
    },
    {
      "cell_type": "code",
      "execution_count": null,
      "id": "5b1df60a",
      "metadata": {
        "id": "5b1df60a"
      },
      "outputs": [],
      "source": [
        "def Balance1(string):\n",
        "    brackets = Stack()\n",
        "    for i in string:\n",
        "        if i == '(':\n",
        "            brackets.push(i)\n",
        "        elif i == ')':\n",
        "            if brackets.is_empty():\n",
        "                return False\n",
        "            brackets.pop()\n",
        "    return brackets.is_empty()"
      ]
    },
    {
      "cell_type": "markdown",
      "id": "c44cdd6b",
      "metadata": {
        "id": "c44cdd6b"
      },
      "source": [
        "### Задание №5\n",
        "Дан текстовый файл с программой на алгоритмическом языке. За один просмотр файла проверить баланс квадратных скобок в тексте, используя дек."
      ]
    },
    {
      "cell_type": "code",
      "execution_count": null,
      "id": "36b8f400",
      "metadata": {
        "id": "36b8f400"
      },
      "outputs": [],
      "source": [
        "def Balance2(string):\n",
        "    brackets = Deque()\n",
        "    for i in string:\n",
        "        if i == '[':\n",
        "            brackets.push(i)\n",
        "        elif i == ']':\n",
        "            if brackets.is_empty():\n",
        "                return False\n",
        "            brackets.pop()\n",
        "    return brackets.is_empty()"
      ]
    },
    {
      "cell_type": "markdown",
      "id": "59d13dc7",
      "metadata": {
        "id": "59d13dc7"
      },
      "source": [
        "### Задание №6\n",
        "Дан файл из символов. Используя стек, за один просмотр файла напечатать сначала все цифры, затем все буквы, и, наконец, все остальные символы, сохраняя исходный порядок в каждой группе символов."
      ]
    },
    {
      "cell_type": "code",
      "execution_count": null,
      "id": "297e36c2",
      "metadata": {
        "id": "297e36c2",
        "colab": {
          "base_uri": "https://localhost:8080/"
        },
        "outputId": "40d3d85f-044c-4f3a-f9eb-449b2143b041"
      },
      "outputs": [
        {
          "output_type": "stream",
          "name": "stdout",
          "text": [
            "1243124wqrfew(!№\"№\"№)\n"
          ]
        }
      ],
      "source": [
        "text = '(1243124!№\"№\"№wqrfew)'\n",
        "letters = Stack()\n",
        "digits = Stack()\n",
        "others = Stack()\n",
        "for c in text:\n",
        "    if c.isalpha():\n",
        "        letters.push(c)\n",
        "    elif c.isdigit():\n",
        "        digits.push(c)\n",
        "    else:\n",
        "        others.push(c)\n",
        "new_text = ''\n",
        "letters.reverse()\n",
        "digits.reverse()\n",
        "others.reverse()\n",
        "while not digits.is_empty():\n",
        "    new_text += digits.pop()\n",
        "while not letters.is_empty():\n",
        "    new_text += letters.pop()\n",
        "while not others.is_empty():\n",
        "    new_text += others.pop()\n",
        "print(new_text)"
      ]
    },
    {
      "cell_type": "markdown",
      "id": "973f68bd",
      "metadata": {
        "id": "973f68bd"
      },
      "source": [
        "### Задание №7\n",
        "Дан файл из целых чисел. Используя дек, за один просмотр файла напечатать сначала все отрицательные числа, затем все положительные числа, сохраняя исходный порядок в каждой группе."
      ]
    },
    {
      "cell_type": "code",
      "execution_count": null,
      "id": "c56fad66",
      "metadata": {
        "id": "c56fad66",
        "colab": {
          "base_uri": "https://localhost:8080/"
        },
        "outputId": "c02319f3-060b-43b7-975b-4e4c06e83806"
      },
      "outputs": [
        {
          "output_type": "stream",
          "name": "stdout",
          "text": [
            "[-5, 2, 22, 17, 12, 4, 23, 10, 19, 1, 21, 23, -2]\n",
            "-5\n",
            "-2\n",
            "2\n",
            "22\n",
            "17\n",
            "12\n",
            "4\n",
            "23\n",
            "10\n",
            "19\n",
            "1\n",
            "21\n",
            "23\n"
          ]
        }
      ],
      "source": [
        "import random\n",
        "numbers = [random.randint(-5, 25) for i in range(13)]\n",
        "print(numbers)\n",
        "deque = Deque()\n",
        "for n in numbers:\n",
        "    if n < 0:\n",
        "        deque.push_left(n)\n",
        "    else:\n",
        "        deque.push(n)\n",
        "while not deque.is_empty():\n",
        "    x = deque.pop_left()\n",
        "    if x < 0:\n",
        "        deque.push(x)\n",
        "    else:\n",
        "        deque.push_left(x)\n",
        "        break\n",
        "while not deque.is_empty():\n",
        "    x = deque.pop()\n",
        "    if x < 0:\n",
        "        print(x)\n",
        "    else:\n",
        "        deque.push(x)\n",
        "        break\n",
        "while not deque.is_empty():\n",
        "    print(deque.pop_left())"
      ]
    },
    {
      "cell_type": "markdown",
      "id": "b9228191",
      "metadata": {
        "id": "b9228191"
      },
      "source": [
        "### Задание №8\n",
        "Дан текстовый файл. Используя стек, сформировать новый текстовый файл, содержащий строки исходного файла, записанные в обратном порядке: первая строка становится последней, вторая – предпоследней и т.д."
      ]
    },
    {
      "cell_type": "code",
      "execution_count": null,
      "id": "981fbdfe",
      "metadata": {
        "id": "981fbdfe",
        "colab": {
          "base_uri": "https://localhost:8080/"
        },
        "outputId": "b8d31083-b0af-4ca8-9abe-e82686b5ca17"
      },
      "outputs": [
        {
          "output_type": "stream",
          "name": "stdout",
          "text": [
            "Мастер и Маргарита\n",
            "Собачье сердце\n",
            "Мёртвые души\n",
            "Двенадцать стульев\n",
            "Граф Монте-Кристо\n",
            "\n",
            "Граф Монте-Кристо\n",
            "Двенадцать стульев\n",
            "Мёртвые души\n",
            "Собачье сердце\n",
            "Мастер и Маргарита\n"
          ]
        }
      ],
      "source": [
        "with open('Task1.txt') as books:\n",
        "    books=open('Task1.txt')\n",
        "    stack = Stack()\n",
        "    for book in books:\n",
        "        book = book.strip()\n",
        "        print(book)\n",
        "        stack.push(book)\n",
        "    print()\n",
        "    while not stack.is_empty():\n",
        "        print(stack.pop())"
      ]
    },
    {
      "cell_type": "markdown",
      "id": "rental-jerusalem",
      "metadata": {
        "id": "rental-jerusalem"
      },
      "source": [
        "### Вывод\n"
      ]
    },
    {
      "cell_type": "markdown",
      "id": "0c2b8899",
      "metadata": {
        "id": "0c2b8899"
      },
      "source": []
    }
  ],
  "metadata": {
    "kernelspec": {
      "display_name": "Python 3 (ipykernel)",
      "language": "python",
      "name": "python3"
    },
    "language_info": {
      "codemirror_mode": {
        "name": "ipython",
        "version": 3
      },
      "file_extension": ".py",
      "mimetype": "text/x-python",
      "name": "python",
      "nbconvert_exporter": "python",
      "pygments_lexer": "ipython3",
      "version": "3.10.2"
    },
    "colab": {
      "provenance": [],
      "include_colab_link": true
    }
  },
  "nbformat": 4,
  "nbformat_minor": 5
}